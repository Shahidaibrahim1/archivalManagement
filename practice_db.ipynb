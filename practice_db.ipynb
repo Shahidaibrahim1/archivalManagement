from app import db
jj = db.execute("select batch_title, count(*) as total_students from students group by batch_title").fetchall()
for a in jj:
    print(a.batch_title, a.total_students)
    BSCS 1
  BSIT 2
